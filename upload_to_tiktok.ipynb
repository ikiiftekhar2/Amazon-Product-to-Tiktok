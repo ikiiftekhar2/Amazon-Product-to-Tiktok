{
 "cells": [
  {
   "cell_type": "code",
   "execution_count": 7,
   "metadata": {},
   "outputs": [
    {
     "name": "stdout",
     "output_type": "stream",
     "text": [
      "[+] Video upload uploaded successfully \n"
     ]
    },
    {
     "data": {
      "text/plain": [
       "True"
      ]
     },
     "execution_count": 7,
     "metadata": {},
     "output_type": "execute_result"
    }
   ],
   "source": [
    "from Tiktok_uploader import uploadVideo\n",
    "\n",
    "session_id = \"5b23cc979bf61699c0af54bbf249084d\"\n",
    "file = \"gg.mp4\"\n",
    "title = \"MY SUPER TITLE\"\n",
    "tags = [\"Funny\", \"Joke\", \"fyp\"]\n",
    "schedule_time = 1672592400\n",
    "\n",
    "# Publish the video\n",
    "uploadVideo(session_id, file, title, tags, verbose=True)"
   ]
  },
  {
   "cell_type": "code",
   "execution_count": 1,
   "metadata": {},
   "outputs": [
    {
     "name": "stdout",
     "output_type": "stream",
     "text": [
      "Text: Smart Watch with True Blood Oxygen Monitor, 1.83\" HD Touch Screen Activity Fitness Trackers for Android and iOS Phones with Blood Pressure Heart Rate Sleep Monitor Pedometer, IP67 Waterproof Smartwatch for men and women\n",
      "Href: https://www.amazon.ca/Activity-Trackers-Pedometer-Waterproof-Smartwatch/dp/B0BTHHCDGL/ref=sr_1_3?crid=JB67FKF1QM0G&keywords=tiktok+sleep&qid=1686883839&sprefix=phone+case%2Caps%2C191&sr=8-3\n",
      "\n",
      "Text: Smart Watch for Men Women with Bluetooth Call,1.91\" Screen Smart Watches with Blood Oxygen Heart Rate Sleep Monitor Notification Weather Pedometer 250+ Dial for Android & iOS Phone\n",
      "Href: https://www.amazon.ca/Bluetooth-Watches-Monitor-Notification-Pedometer/dp/B0BQQWGMLT/ref=sr_1_5?crid=JB67FKF1QM0G&keywords=tiktok+sleep&qid=1686883839&sprefix=phone+case%2Caps%2C191&sr=8-5\n",
      "\n",
      "Text: ROSYLINE Pajama Shorts for Women Lounge Shorts Women Pajamas Sleep Bottoms with Pocket 1-2 Pack\n",
      "Href: https://www.amazon.ca/ROSYLINE-Pajama-Pajamas-Bottoms-Grey/dp/B08XNB2H2L/ref=sr_1_6?crid=JB67FKF1QM0G&keywords=tiktok+sleep&qid=1686883839&sprefix=phone+case%2Caps%2C191&sr=8-6\n",
      "\n",
      "Text: Rain Humidifier Diffuser with 7 Colors Night Lights,Essential Oil Aroma Therapy Diffuser with Remote Control,Timming, Mushroom Humidifier (Color : White)\n",
      "Href: https://www.amazon.ca/Humidifier-Diffuser-Essential-Therapy-Mushroom/dp/B0C3N6W5D4/ref=sr_1_7?crid=JB67FKF1QM0G&keywords=tiktok+sleep&qid=1686883839&sprefix=phone+case%2Caps%2C191&sr=8-7\n",
      "\n",
      "Text: 2022 New Thanksgiving Turkey Hat,Tiktok Deep-Fried Turkey Pillow, Fried Turkey Pillow/Sleep Mask,Covers Half of Your Face with a Turkey,Sleeping Inside a Cozy Turkey,Funny Gift.\n",
      "Href: https://www.amazon.ca/Thanksgiving-Turkey-Tiktok-Deep-Fried-Sleeping/dp/B09WV5NLVD/ref=sr_1_8?crid=JB67FKF1QM0G&keywords=tiktok+sleep&qid=1686883839&sprefix=phone+case%2Caps%2C191&sr=8-8\n",
      "\n",
      "Text: 3D Sleep Mask Headphones, Bluetooth Sleeping Eye Masks, Ultra-Thin HD Stereo Speakers Wireless Sleep Headphones for Yoga,Insomnia, Meditation, Over-ear Earbuds Cool Tech Gadget Gifts for Women Black\n",
      "Href: https://www.amazon.ca/Headphones-Bluetooth-Sleeping-Ultra-Thin-Meditation/dp/B0BCQ5TV8R/ref=sr_1_9?crid=JB67FKF1QM0G&keywords=tiktok+sleep&qid=1686883839&sprefix=phone+case%2Caps%2C191&sr=8-9\n",
      "\n",
      "Text: Smart Watches for Men Women Bluetooth Calls(Answer/Make Call) 1.83\" Full Touch Screen Fitness Tracker with Blood Oxygen Sleep Monitor IP67 Waterproof Smart Watch for Android iPhone (Black)\n",
      "Href: https://www.amazon.ca/Watches-Bluetooth-Fitness-Tracker-Waterproof/dp/B0BVM2ZJF4/ref=sr_1_11?crid=JB67FKF1QM0G&keywords=tiktok+sleep&qid=1686883839&sprefix=phone+case%2Caps%2C191&sr=8-11\n",
      "\n",
      "Text: Slushy Cup Slushie Maker Machine for Home Kids,Tiktok Portable Quick Frozen Smoothies Squeeze Cooling Cup with Cup Brush Straw and Spoon(500ml Blue)\n",
      "Href: https://www.amazon.ca/Slushie-Machine-Portable-Smoothies-Squeeze/dp/B0BNV3Q982/ref=sr_1_13?crid=JB67FKF1QM0G&keywords=tiktok+sleep&qid=1686883839&sprefix=phone+case%2Caps%2C191&sr=8-13\n",
      "\n",
      "Text: Ekouaer Women's Nightgown Sexy Button Down Sleep Dress Short Sleeve Night Shirt V Neck Sleepwear\n",
      "Href: https://www.amazon.ca/Ekouaer-Womens-Sleepshirt-Button-Sleeve/dp/B0B3DQTX3W/ref=sr_1_14?crid=JB67FKF1QM0G&keywords=tiktok+sleep&qid=1686883839&sprefix=phone+case%2Caps%2C191&sr=8-14\n",
      "\n",
      "Text: Smart Watch (Answer/Make Calls), 2023 Newest 1.83 Inch Fitness Tracker, Heart Rate/Sleep Monitor/Pedometer/Calories, Multiple Sports Modes, Waterproof Women's Men's Fitness Watch for Android iPhone\n",
      "Href: https://www.amazon.ca/sspa/click?ie=UTF8&spc=MTo2MjY3Njk2Nzc4NzY0NDE4OjE2ODY4ODM4Mzk6c3BfbXRmOjIwMDExOTI2NTM2NDc5ODo6MDo6&url=%2FFitness-Pedometer-Calories-Multiple-Waterproof%2Fdp%2FB0BQR71778%2Fref%3Dsr_1_21_sspa%3Fcrid%3DJB67FKF1QM0G%26keywords%3Dtiktok%2Bsleep%26qid%3D1686883839%26sprefix%3Dphone%2Bcase%252Caps%252C191%26sr%3D8-21-spons%26sp_csd%3Dd2lkZ2V0TmFtZT1zcF9tdGY%26psc%3D1\n",
      "\n",
      "Text: Newest 4G Smart Watch with GPS Tracker, Heart Rate & Sleep Monitoring, Pedometer, Music Playback, Multiple Sports Modes - Perfect for Men & Women\n",
      "Href: https://www.amazon.ca/sspa/click?ie=UTF8&spc=MTo2MjY3Njk2Nzc4NzY0NDE4OjE2ODY4ODM4Mzk6c3BfbXRmOjIwMDE1MjY4NzYzNTg5ODo6MDo6&url=%2FTracker-Monitoring-Pedometer-Playback-Multiple%2Fdp%2FB0C13CGX8L%2Fref%3Dsr_1_23_sspa%3Fcrid%3DJB67FKF1QM0G%26keywords%3Dtiktok%2Bsleep%26qid%3D1686883839%26sprefix%3Dphone%2Bcase%252Caps%252C191%26sr%3D8-23-spons%26sp_csd%3Dd2lkZ2V0TmFtZT1zcF9tdGY%26psc%3D1\n",
      "\n",
      "Text: Gift for Father Day,ANIFM QS11 Smartwatch with 1.9Inch Touch Screen,Blood Glucose/Heart Rate/Blood Oxygen/Sleep Tracking,50+ Sport Modes Fitness Watch Compatible with Android iOS(Black+Pink)\n",
      "Href: https://www.amazon.ca/sspa/click?ie=UTF8&spc=MTo2MjY3Njk2Nzc4NzY0NDE4OjE2ODY4ODM4Mzk6c3BfbXRmOjIwMDE2OTAzMTYwNjg5ODo6MDo6&url=%2FANIFM-QS11-Smartwatch-Tracking-Compatible%2Fdp%2FB0C59Q17H2%2Fref%3Dsr_1_24_sspa%3Fcrid%3DJB67FKF1QM0G%26keywords%3Dtiktok%2Bsleep%26qid%3D1686883839%26sprefix%3Dphone%2Bcase%252Caps%252C191%26sr%3D8-24-spons%26sp_csd%3Dd2lkZ2V0TmFtZT1zcF9tdGY%26psc%3D1\n",
      "\n",
      "Text: LC-dolida Sleep Headphones Bluetooth Wireless Sleeping Eye Mask, Office Travel Unisex Birthday Gifts Men Women Who Have Everything Top Cool Tech Gadgets Unique Mom Dad Her Him Adults Teen Boys Girls\n",
      "Href: https://www.amazon.ca/Bluetooth-Sleeping-Headphone-Microphone-Mask-Indigo/dp/B092V77N6G/ref=sr_1_26?crid=JB67FKF1QM0G&keywords=tiktok+sleep&qid=1686883839&sprefix=phone+case%2Caps%2C191&sr=8-26\n",
      "\n",
      "Text: Tiktok Eat Sleep tiktok Repeat retro vintage colors: Notebook 8.5x11 in\n",
      "Href: https://www.amazon.ca/Tiktok-tiktok-Repeat-vintage-colors/dp/B0B8VLGZRC/ref=sr_1_27?crid=JB67FKF1QM0G&keywords=tiktok+sleep&qid=1686883839&sprefix=phone+case%2Caps%2C191&sr=8-27\n",
      "\n",
      "Text: Tiktok Funny eat sleep Tiktok repeat retro vintage Notebook: 8.5x11inch\n",
      "Href: https://www.amazon.ca/Tiktok-Funny-repeat-vintage-Notebook/dp/B0B8RG2W9T/ref=sr_1_28?crid=JB67FKF1QM0G&keywords=tiktok+sleep&qid=1686883839&sprefix=phone+case%2Caps%2C191&sr=8-28\n",
      "\n",
      "Text: Eat Sleep TikTok Repeat Notebook: Daily Journal\n",
      "Href: https://www.amazon.ca/Eat-Sleep-TikTok-Repeat-Notebook/dp/B096YV1KTT/ref=sr_1_31?crid=JB67FKF1QM0G&keywords=tiktok+sleep&qid=1686883839&sprefix=phone+case%2Caps%2C191&sr=8-31\n",
      "\n",
      "Text: FULLSOFT 4 Pack Biker Shorts for Women High Waist - 5\" Soft Summer Womens Shorts Spandex Workout Shorts for Running Athletic\n",
      "Href: https://www.amazon.ca/FULLSOFT-Biker-Shorts-Women-Waist/dp/B0BHLW9F3C/ref=sr_1_33?crid=JB67FKF1QM0G&keywords=tiktok+sleep&qid=1686883839&sprefix=phone+case%2Caps%2C191&sr=8-33\n",
      "\n",
      "Text: Insomnia Doc’s Guide to Restful Sleep: Remedies for Insomnia and Tips for Good Sleep Health (Lack of Sleep or Sleep Deprivation Help)\n",
      "Href: https://www.amazon.ca/Insomnia-Docs-Guide-Restful-Sleep/dp/1684810655/ref=sr_1_34?crid=JB67FKF1QM0G&keywords=tiktok+sleep&qid=1686883839&sprefix=phone+case%2Caps%2C191&sr=8-34\n",
      "\n",
      "Text: Smart Watch for Men Women with Call Answer/Dial, 1.7'' DIY Screen Activity Tracker with Built-in Alexa, 60 Sport Modes Heart Rate/SpO2/Sleep Monitor Pedometer Alarm Weather Smartwatch for Android iOS\n",
      "Href: https://www.amazon.ca/Activity-Tracker-Monitor-Pedometer-Smartwatch/dp/B0BNHP7867/ref=sr_1_36?crid=JB67FKF1QM0G&keywords=tiktok+sleep&qid=1686883839&sprefix=phone+case%2Caps%2C191&sr=8-36\n",
      "\n",
      "Text: Sleep Headphones Bluetooth 3D Eye Mask, Boodlab 3D Wireless Sleeping Headphones Sleep Mask with Ultra-Thin HD Stereo Speakers Washable Adjustable for sleeping Side Sleepers Air Travel Yoga, Meditation\n",
      "Href: https://www.amazon.ca/Headphones-Boodlab-Ultra-Thin-Adjustable-Meditation/dp/B08PB8NC83/ref=sr_1_37?crid=JB67FKF1QM0G&keywords=tiktok+sleep&qid=1686883839&sprefix=phone+case%2Caps%2C191&sr=8-37\n",
      "\n",
      "Text: Scented Candle, BOYUJK Candles Scented Gift Set for Stress Relief, 2 Scented Soy Sleep Candles, Relaxation Gifts for Women\n",
      "Href: https://www.amazon.ca/Scented-Candle-BOYUJK-Candles-Relaxation/dp/B09Q5BP16W/ref=sr_1_38?crid=JB67FKF1QM0G&keywords=tiktok+sleep&qid=1686883839&sprefix=phone+case%2Caps%2C191&sr=8-38\n",
      "\n",
      "Text: eleror Sleep Earbuds Z1, Invisible Wireless Bluetooth Earbuds for Small Ears, Small Ear Buds Headphones Light Weight for Comfort Fit, Mini Earphones for Music, Podcast(Light Green)\n",
      "Href: https://www.amazon.ca/eleror-Z1-Invisible-Bluetooth-Headphones/dp/B0BJPFQNNJ/ref=sr_1_41?crid=JB67FKF1QM0G&keywords=tiktok+sleep&qid=1686883839&sprefix=phone+case%2Caps%2C191&sr=8-41\n",
      "\n",
      "Text: Ultrasonic Cleaner,Ultrasonic Jewelry Cleaner,Portable Professional Ultrasonic Cleaner Machine for Glasses,Ring,Toys,Silver,Retainer, Eyeglass, Watches, Coins and More\n",
      "Href: https://www.amazon.ca/Ultrasonic-Portable-Professional-Retainer-Eyeglass/dp/B0BWCFCNG7/ref=sr_1_42?crid=JB67FKF1QM0G&keywords=tiktok+sleep&qid=1686883839&sprefix=phone+case%2Caps%2C191&sr=8-42\n",
      "\n",
      "Text: ALCEA ROSEA Womens Sleepwear Lace Lingerie Chemises V Neck Nightgown Sexy Long Sleep Dress Sleeveless Lace for Women Elegant\n",
      "Href: https://www.amazon.ca/Alcea-Rosea-Nightgown-Sleeveless-Sleepwear/dp/B08JTXG25M/ref=sr_1_43?crid=JB67FKF1QM0G&keywords=tiktok+sleep&qid=1686883839&sprefix=phone+case%2Caps%2C191&sr=8-43\n",
      "\n",
      "Text: Slushie Maker Cup 330ml, Frozen Magic Squeeze Cup, Instant Slushy Maker Cup for DIY Milkshake, Ice Cream & Smoothies, Frozen Magic Cup, Ice Maker Cup Squeeze for DIY Slushie (Pink)\n",
      "Href: https://www.amazon.ca/Slushie-Homemade-Smoothie-Frozen-Magic/dp/B09PQQ3G3Q/ref=sr_1_45?crid=JB67FKF1QM0G&keywords=tiktok+sleep&qid=1686883839&sprefix=phone+case%2Caps%2C191&sr=8-45\n",
      "\n",
      "Text: MOREFEEL 3 Pack Biker Shorts for Women with Pockets - 8\" High Waist Tummy Control Workout Gym Yoga Running Summer Short Pants\n",
      "Href: https://www.amazon.ca/MOREFEEL-Biker-Shorts-Women-Pockets/dp/B0BJPVNJFB/ref=sr_1_47?crid=JB67FKF1QM0G&keywords=tiktok+sleep&qid=1686883839&sprefix=phone+case%2Caps%2C191&sr=8-47\n",
      "\n",
      "Text: Y2k Long Sleeve One Piece Bodysuit V Neck Bodycon Floral Print Shorts Stretchy Pajama Onesie Rompers Jumpsuit\n",
      "Href: https://www.amazon.ca/Bodysuit-Stretchy-Playsuit-Jumpsuit-White-long/dp/B0BGN7PNG5/ref=sr_1_48?crid=JB67FKF1QM0G&keywords=tiktok+sleep&qid=1686883839&sprefix=phone+case%2Caps%2C191&sr=8-48\n",
      "\n",
      "Text: YANA STAR Projector | Galaxy Projector For Bedroom | Night Light Projector For Kids/Adults Gaming Room, Home Theatre, Gift Idea, Room Decor | Starry Lamp For Children | 8 Natural Sounds | Voice Control (BLACK)\n",
      "Href: https://www.amazon.ca/YANA-STAR-Projector-Bedroom-Children/dp/B0BRCKB6R9/ref=sr_1_49?crid=JB67FKF1QM0G&keywords=tiktok+sleep&qid=1686883839&sprefix=phone+case%2Caps%2C191&sr=8-49\n",
      "\n",
      "Text: Star Projector Night Light for Kids, Galaxy Projector Lamp with Sleep Aid Music, LED Light for Girl’s Bedroom Decor, Rechargeable Battery Power, Smart App/Remote Control, Birthday Gift Toy\n",
      "Href: https://www.amazon.ca/Projector-Bedroom-Rechargeable-Battery-Birthday/dp/B0BN8R1X49/ref=sr_1_50?crid=JB67FKF1QM0G&keywords=tiktok+sleep&qid=1686883839&sprefix=phone+case%2Caps%2C191&sr=8-50\n",
      "\n",
      "Text: OQQ Women's 3 Piece Yoga Shorts Ribbed Seamless Workout High Waist Cross Over Athletic Leggings\n",
      "Href: https://www.amazon.ca/OQQ-Seamless-Athletic-Leggings-Candyblue/dp/B0BX2Q73VR/ref=sr_1_51?crid=JB67FKF1QM0G&keywords=tiktok+sleep&qid=1686883839&sprefix=phone+case%2Caps%2C191&sr=8-51\n",
      "\n",
      "Text: AGPTEK Northern Lights Galaxy Projector, Night Light for Bedroom with Changing Nebula, Bluetooth Music Speaker & White Noise, LED Bedside Lamp for Kids Adults, Home Decor, Ceiling, Party, Christmas\n",
      "Href: https://www.amazon.ca/AGPTEK-Northern-Projector-Bluetooth-Christmas/dp/B0B99YBHR6/ref=sr_1_52?crid=JB67FKF1QM0G&keywords=tiktok+sleep&qid=1686883839&sprefix=phone+case%2Caps%2C191&sr=8-52\n",
      "\n",
      "Text: Smart Watch, Voice Assistant with Bluetooth Calling, for Men Women, 1.7 Inch HD Display Blood Pressure Heart Rate Temperature Sleep Monitor, IP67 Waterproof Fitness Tracker, Watch for Android and iOS\n",
      "Href: https://www.amazon.ca/sspa/click?ie=UTF8&spc=MTo2MjY3Njk2Nzc4NzY0NDE4OjE2ODY4ODM4Mzk6c3BfYnRmOjIwMDE2NDMwMjI1Mzk5ODo6MDo6&url=%2FAssistant-Bluetooth-Pressure-Temperature-Waterproof%2Fdp%2FB0BZPYGW9H%2Fref%3Dsr_1_55_sspa%3Fcrid%3DJB67FKF1QM0G%26keywords%3Dtiktok%2Bsleep%26qid%3D1686883839%26sprefix%3Dphone%2Bcase%252Caps%252C191%26sr%3D8-55-spons%26sp_csd%3Dd2lkZ2V0TmFtZT1zcF9idGY%26psc%3D1\n",
      "\n",
      "Text: Pulatree Bed Pillows Shredded Memory Foam Pillows, Adjustable Bamboo Neck Pillow for Side Back Stomach Sleepers, Adjust Height and Firmness Queen Size(1 Pack)\n",
      "Href: https://www.amazon.ca/sspa/click?ie=UTF8&spc=MTo2MjY3Njk2Nzc4NzY0NDE4OjE2ODY4ODM4Mzk6c3BfYnRmOjIwMDE3NDgyOTg1MTU5ODo6MDo6&url=%2FPulatree-Pillows-Sleeping-Adjustable-Shredded%2Fdp%2FB09XTV59TD%2Fref%3Dsr_1_57_sspa%3Fcrid%3DJB67FKF1QM0G%26keywords%3Dtiktok%2Bsleep%26qid%3D1686883839%26sprefix%3Dphone%2Bcase%252Caps%252C191%26sr%3D8-57-spons%26sp_csd%3Dd2lkZ2V0TmFtZT1zcF9idGY%26psc%3D1\n",
      "\n",
      "Text: Msicyness Tiktok Trending Leggings Women's High Waist Yoga Pants Ruched Butt Lift Leggings Textured Scrunch Booty Tights\n",
      "Href: https://www.amazon.ca/sspa/click?ie=UTF8&spc=MTo2MjY3Njk2Nzc4NzY0NDE4OjE2ODY4ODM4Mzk6c3BfYnRmOjIwMDA2MjMyNzY2OTE0MTo6MDo6&url=%2FWomens-Control-Leggings-Textured-Scrunch%2Fdp%2FB08CD6W2VW%2Fref%3Dsr_1_58_sspa%3Fcrid%3DJB67FKF1QM0G%26keywords%3Dtiktok%2Bsleep%26qid%3D1686883839%26sprefix%3Dphone%2Bcase%252Caps%252C191%26sr%3D8-58-spons%26sp_csd%3Dd2lkZ2V0TmFtZT1zcF9idGY%26psc%3D1\n",
      "\n"
     ]
    },
    {
     "name": "stderr",
     "output_type": "stream",
     "text": [
      "Processing results:  35%|███▌      | 12/34 [00:46<01:25,  3.88s/it]"
     ]
    },
    {
     "name": "stdout",
     "output_type": "stream",
     "text": [
      "Oppsie with video\n"
     ]
    },
    {
     "name": "stderr",
     "output_type": "stream",
     "text": [
      "Processing results:  94%|█████████▍| 32/34 [01:55<00:06,  3.31s/it]"
     ]
    },
    {
     "name": "stdout",
     "output_type": "stream",
     "text": [
      "Oppsie with video\n"
     ]
    },
    {
     "name": "stderr",
     "output_type": "stream",
     "text": [
      "Processing results:  97%|█████████▋| 33/34 [01:58<00:03,  3.14s/it]"
     ]
    },
    {
     "name": "stdout",
     "output_type": "stream",
     "text": [
      "Oppsie with video\n"
     ]
    },
    {
     "name": "stderr",
     "output_type": "stream",
     "text": [
      "Processing results: 100%|██████████| 34/34 [02:01<00:00,  3.57s/it]"
     ]
    },
    {
     "name": "stdout",
     "output_type": "stream",
     "text": [
      "Oppsie with video\n",
      "Title: ROSYLINE Pajama Shorts for Women Lounge Shorts Women Pajamas Sleep Bottoms with Pocket 1-2 Pack\n",
      "Amazon Product Link: https://www.amazon.ca/ROSYLINE-Pajama-Pajamas-Bottoms-Grey/dp/B08XNB2H2L/?tag=zentorno0d-20\n",
      "YouTube Link: https://www.youtube.com/shorts/TQy7orwfRbU\n",
      "\n",
      "Title: Rain Humidifier Diffuser with 7 Colors Night Lights,Essential Oil Aroma Therapy Diffuser with Remote Control,Timming, Mushroom Humidifier (Color : White)\n",
      "Amazon Product Link: https://www.amazon.ca/Humidifier-Diffuser-Essential-Therapy-Mushroom/dp/B0C3N6W5D4/?tag=zentorno0d-20\n",
      "YouTube Link: https://www.youtube.com/shorts/39eBGt6e9Fw\n",
      "\n",
      "Title: 2022 New Thanksgiving Turkey Hat,Tiktok Deep-Fried Turkey Pillow, Fried Turkey Pillow/Sleep Mask,Covers Half of Your Face with a Turkey,Sleeping Inside a Cozy Turkey,Funny Gift.\n",
      "Amazon Product Link: https://www.amazon.ca/Thanksgiving-Turkey-Tiktok-Deep-Fried-Sleeping/dp/B09WV5NLVD/?tag=zentorno0d-20\n",
      "YouTube Link: https://www.youtube.com/shorts/wnWrTLCyVY0\n",
      "\n",
      "Title: 3D Sleep Mask Headphones, Bluetooth Sleeping Eye Masks, Ultra-Thin HD Stereo Speakers Wireless Sleep Headphones for Yoga,Insomnia, Meditation, Over-ear Earbuds Cool Tech Gadget Gifts for Women Black\n",
      "Amazon Product Link: https://www.amazon.ca/Headphones-Bluetooth-Sleeping-Ultra-Thin-Meditation/dp/B0BCQ5TV8R/?tag=zentorno0d-20\n",
      "YouTube Link: https://www.youtube.com/shorts/bRAyDq1F0EI\n",
      "\n",
      "Title: Slushy Cup Slushie Maker Machine for Home Kids,Tiktok Portable Quick Frozen Smoothies Squeeze Cooling Cup with Cup Brush Straw and Spoon(500ml Blue)\n",
      "Amazon Product Link: https://www.amazon.ca/Slushie-Machine-Portable-Smoothies-Squeeze/dp/B0BNV3Q982/?tag=zentorno0d-20\n",
      "YouTube Link: https://www.youtube.com/shorts/sMgpmy97EGQ\n",
      "\n",
      "Title: Ekouaer Women's Nightgown Sexy Button Down Sleep Dress Short Sleeve Night Shirt V Neck Sleepwear\n",
      "Amazon Product Link: https://www.amazon.ca/Ekouaer-Womens-Sleepshirt-Button-Sleeve/dp/B0B3DQTX3W/?tag=zentorno0d-20\n",
      "YouTube Link: https://www.youtube.com/shorts/Eo6TpE_nGCU\n",
      "\n",
      "Title: LC-dolida Sleep Headphones Bluetooth Wireless Sleeping Eye Mask, Office Travel Unisex Birthday Gifts Men Women Who Have Everything Top Cool Tech Gadgets Unique Mom Dad Her Him Adults Teen Boys Girls\n",
      "Amazon Product Link: https://www.amazon.ca/Bluetooth-Sleeping-Headphone-Microphone-Mask-Indigo/dp/B092V77N6G/?tag=zentorno0d-20\n",
      "YouTube Link: https://www.youtube.com/shorts/qoNxZeqxGck\n",
      "\n",
      "Title: ALCEA ROSEA Womens Sleepwear Lace Lingerie Chemises V Neck Nightgown Sexy Long Sleep Dress Sleeveless Lace for Women Elegant\n",
      "Amazon Product Link: https://www.amazon.ca/Alcea-Rosea-Nightgown-Sleeveless-Sleepwear/dp/B08JTXG25M/?tag=zentorno0d-20\n",
      "YouTube Link: https://www.youtube.com/shorts/FbYLNThWnbw\n",
      "\n",
      "Title: Slushie Maker Cup 330ml, Frozen Magic Squeeze Cup, Instant Slushy Maker Cup for DIY Milkshake, Ice Cream & Smoothies, Frozen Magic Cup, Ice Maker Cup Squeeze for DIY Slushie (Pink)\n",
      "Amazon Product Link: https://www.amazon.ca/Slushie-Homemade-Smoothie-Frozen-Magic/dp/B09PQQ3G3Q/?tag=zentorno0d-20\n",
      "YouTube Link: https://www.youtube.com/shorts/0zUTMrbjsrw\n",
      "\n",
      "Title: MOREFEEL 3 Pack Biker Shorts for Women with Pockets - 8\" High Waist Tummy Control Workout Gym Yoga Running Summer Short Pants\n",
      "Amazon Product Link: https://www.amazon.ca/MOREFEEL-Biker-Shorts-Women-Pockets/dp/B0BJPVNJFB/?tag=zentorno0d-20\n",
      "YouTube Link: https://www.youtube.com/shorts/SHJr9xFvESw\n",
      "\n",
      "Title: YANA STAR Projector | Galaxy Projector For Bedroom | Night Light Projector For Kids/Adults Gaming Room, Home Theatre, Gift Idea, Room Decor | Starry Lamp For Children | 8 Natural Sounds | Voice Control (BLACK)\n",
      "Amazon Product Link: https://www.amazon.ca/YANA-STAR-Projector-Bedroom-Children/dp/B0BRCKB6R9/?tag=zentorno0d-20\n",
      "YouTube Link: https://www.youtube.com/shorts/Bc6zyr1vI6w\n",
      "\n",
      "Title: Star Projector Night Light for Kids, Galaxy Projector Lamp with Sleep Aid Music, LED Light for Girl’s Bedroom Decor, Rechargeable Battery Power, Smart App/Remote Control, Birthday Gift Toy\n",
      "Amazon Product Link: https://www.amazon.ca/Projector-Bedroom-Rechargeable-Battery-Birthday/dp/B0BN8R1X49/?tag=zentorno0d-20\n",
      "YouTube Link: https://www.youtube.com/shorts/iz5aCRjpgfg\n",
      "\n"
     ]
    },
    {
     "name": "stderr",
     "output_type": "stream",
     "text": [
      "\n"
     ]
    }
   ],
   "source": [
    "from contentag import amazonQuery, youtube_results\n",
    "\n",
    "results = amazonQuery(\"sleep\")\n",
    "data_dict = youtube_results(results)"
   ]
  },
  {
   "cell_type": "code",
   "execution_count": 2,
   "metadata": {},
   "outputs": [
    {
     "data": {
      "text/plain": [
       "{'https://www.youtube.com/shorts/TQy7orwfRbU': {'Title': 'ROSYLINE Pajama Shorts for Women Lounge Shorts Women Pajamas Sleep Bottoms with Pocket 1-2 Pack',\n",
       "  'Amazon Product Link': 'https://www.amazon.ca/ROSYLINE-Pajama-Pajamas-Bottoms-Grey/dp/B08XNB2H2L/?tag=zentorno0d-20',\n",
       "  'YouTube Link': 'https://www.youtube.com/shorts/TQy7orwfRbU'},\n",
       " 'https://www.youtube.com/shorts/39eBGt6e9Fw': {'Title': 'Rain Humidifier Diffuser with 7 Colors Night Lights,Essential Oil Aroma Therapy Diffuser with Remote Control,Timming, Mushroom Humidifier (Color : White)',\n",
       "  'Amazon Product Link': 'https://www.amazon.ca/Humidifier-Diffuser-Essential-Therapy-Mushroom/dp/B0C3N6W5D4/?tag=zentorno0d-20',\n",
       "  'YouTube Link': 'https://www.youtube.com/shorts/39eBGt6e9Fw'},\n",
       " 'https://www.youtube.com/shorts/wnWrTLCyVY0': {'Title': '2022 New Thanksgiving Turkey Hat,Tiktok Deep-Fried Turkey Pillow, Fried Turkey Pillow/Sleep Mask,Covers Half of Your Face with a Turkey,Sleeping Inside a Cozy Turkey,Funny Gift.',\n",
       "  'Amazon Product Link': 'https://www.amazon.ca/Thanksgiving-Turkey-Tiktok-Deep-Fried-Sleeping/dp/B09WV5NLVD/?tag=zentorno0d-20',\n",
       "  'YouTube Link': 'https://www.youtube.com/shorts/wnWrTLCyVY0'},\n",
       " 'https://www.youtube.com/shorts/bRAyDq1F0EI': {'Title': '3D Sleep Mask Headphones, Bluetooth Sleeping Eye Masks, Ultra-Thin HD Stereo Speakers Wireless Sleep Headphones for Yoga,Insomnia, Meditation, Over-ear Earbuds Cool Tech Gadget Gifts for Women Black',\n",
       "  'Amazon Product Link': 'https://www.amazon.ca/Headphones-Bluetooth-Sleeping-Ultra-Thin-Meditation/dp/B0BCQ5TV8R/?tag=zentorno0d-20',\n",
       "  'YouTube Link': 'https://www.youtube.com/shorts/bRAyDq1F0EI'},\n",
       " 'https://www.youtube.com/shorts/sMgpmy97EGQ': {'Title': 'Slushy Cup Slushie Maker Machine for Home Kids,Tiktok Portable Quick Frozen Smoothies Squeeze Cooling Cup with Cup Brush Straw and Spoon(500ml Blue)',\n",
       "  'Amazon Product Link': 'https://www.amazon.ca/Slushie-Machine-Portable-Smoothies-Squeeze/dp/B0BNV3Q982/?tag=zentorno0d-20',\n",
       "  'YouTube Link': 'https://www.youtube.com/shorts/sMgpmy97EGQ'},\n",
       " 'https://www.youtube.com/shorts/Eo6TpE_nGCU': {'Title': \"Ekouaer Women's Nightgown Sexy Button Down Sleep Dress Short Sleeve Night Shirt V Neck Sleepwear\",\n",
       "  'Amazon Product Link': 'https://www.amazon.ca/Ekouaer-Womens-Sleepshirt-Button-Sleeve/dp/B0B3DQTX3W/?tag=zentorno0d-20',\n",
       "  'YouTube Link': 'https://www.youtube.com/shorts/Eo6TpE_nGCU'},\n",
       " 'https://www.youtube.com/shorts/qoNxZeqxGck': {'Title': 'LC-dolida Sleep Headphones Bluetooth Wireless Sleeping Eye Mask, Office Travel Unisex Birthday Gifts Men Women Who Have Everything Top Cool Tech Gadgets Unique Mom Dad Her Him Adults Teen Boys Girls',\n",
       "  'Amazon Product Link': 'https://www.amazon.ca/Bluetooth-Sleeping-Headphone-Microphone-Mask-Indigo/dp/B092V77N6G/?tag=zentorno0d-20',\n",
       "  'YouTube Link': 'https://www.youtube.com/shorts/qoNxZeqxGck'},\n",
       " 'https://www.youtube.com/shorts/FbYLNThWnbw': {'Title': 'ALCEA ROSEA Womens Sleepwear Lace Lingerie Chemises V Neck Nightgown Sexy Long Sleep Dress Sleeveless Lace for Women Elegant',\n",
       "  'Amazon Product Link': 'https://www.amazon.ca/Alcea-Rosea-Nightgown-Sleeveless-Sleepwear/dp/B08JTXG25M/?tag=zentorno0d-20',\n",
       "  'YouTube Link': 'https://www.youtube.com/shorts/FbYLNThWnbw'},\n",
       " 'https://www.youtube.com/shorts/0zUTMrbjsrw': {'Title': 'Slushie Maker Cup 330ml, Frozen Magic Squeeze Cup, Instant Slushy Maker Cup for DIY Milkshake, Ice Cream & Smoothies, Frozen Magic Cup, Ice Maker Cup Squeeze for DIY Slushie (Pink)',\n",
       "  'Amazon Product Link': 'https://www.amazon.ca/Slushie-Homemade-Smoothie-Frozen-Magic/dp/B09PQQ3G3Q/?tag=zentorno0d-20',\n",
       "  'YouTube Link': 'https://www.youtube.com/shorts/0zUTMrbjsrw'},\n",
       " 'https://www.youtube.com/shorts/SHJr9xFvESw': {'Title': 'MOREFEEL 3 Pack Biker Shorts for Women with Pockets - 8\" High Waist Tummy Control Workout Gym Yoga Running Summer Short Pants',\n",
       "  'Amazon Product Link': 'https://www.amazon.ca/MOREFEEL-Biker-Shorts-Women-Pockets/dp/B0BJPVNJFB/?tag=zentorno0d-20',\n",
       "  'YouTube Link': 'https://www.youtube.com/shorts/SHJr9xFvESw'},\n",
       " 'https://www.youtube.com/shorts/Bc6zyr1vI6w': {'Title': 'YANA STAR Projector | Galaxy Projector For Bedroom | Night Light Projector For Kids/Adults Gaming Room, Home Theatre, Gift Idea, Room Decor | Starry Lamp For Children | 8 Natural Sounds | Voice Control (BLACK)',\n",
       "  'Amazon Product Link': 'https://www.amazon.ca/YANA-STAR-Projector-Bedroom-Children/dp/B0BRCKB6R9/?tag=zentorno0d-20',\n",
       "  'YouTube Link': 'https://www.youtube.com/shorts/Bc6zyr1vI6w'},\n",
       " 'https://www.youtube.com/shorts/iz5aCRjpgfg': {'Title': 'Star Projector Night Light for Kids, Galaxy Projector Lamp with Sleep Aid Music, LED Light for Girl’s Bedroom Decor, Rechargeable Battery Power, Smart App/Remote Control, Birthday Gift Toy',\n",
       "  'Amazon Product Link': 'https://www.amazon.ca/Projector-Bedroom-Rechargeable-Battery-Birthday/dp/B0BN8R1X49/?tag=zentorno0d-20',\n",
       "  'YouTube Link': 'https://www.youtube.com/shorts/iz5aCRjpgfg'}}"
      ]
     },
     "execution_count": 2,
     "metadata": {},
     "output_type": "execute_result"
    }
   ],
   "source": [
    "data_dict"
   ]
  },
  {
   "cell_type": "code",
   "execution_count": 4,
   "metadata": {},
   "outputs": [
    {
     "data": {
      "text/plain": [
       "12"
      ]
     },
     "execution_count": 4,
     "metadata": {},
     "output_type": "execute_result"
    }
   ],
   "source": [
    "len(data_dict.keys())"
   ]
  },
  {
   "cell_type": "code",
   "execution_count": 1,
   "metadata": {},
   "outputs": [
    {
     "name": "stdout",
     "output_type": "stream",
     "text": [
      "Collecting langchain\n",
      "  Downloading langchain-0.0.201-py3-none-any.whl (1.0 MB)\n",
      "     ---------------------------------------- 1.0/1.0 MB 13.0 MB/s eta 0:00:00\n",
      "Collecting langchainplus-sdk>=0.0.9\n",
      "  Downloading langchainplus_sdk-0.0.10-py3-none-any.whl (21 kB)\n",
      "Collecting openapi-schema-pydantic<2.0,>=1.2\n",
      "  Downloading openapi_schema_pydantic-1.2.4-py3-none-any.whl (90 kB)\n",
      "     ---------------------------------------- 90.0/90.0 KB ? eta 0:00:00\n",
      "Collecting pydantic<2,>=1\n",
      "  Downloading pydantic-1.10.9-cp310-cp310-win_amd64.whl (2.1 MB)\n",
      "     ---------------------------------------- 2.1/2.1 MB 27.1 MB/s eta 0:00:00\n",
      "Requirement already satisfied: tenacity<9.0.0,>=8.1.0 in c:\\users\\iftek\\appdata\\local\\programs\\python\\python310\\lib\\site-packages (from langchain) (8.1.0)\n",
      "Collecting SQLAlchemy<3,>=1.4\n",
      "  Downloading SQLAlchemy-2.0.16-cp310-cp310-win_amd64.whl (2.0 MB)\n",
      "     ---------------------------------------- 2.0/2.0 MB 31.2 MB/s eta 0:00:00\n",
      "Requirement already satisfied: PyYAML>=5.4.1 in c:\\users\\iftek\\appdata\\local\\programs\\python\\python310\\lib\\site-packages (from langchain) (6.0)\n",
      "Requirement already satisfied: numexpr<3.0.0,>=2.8.4 in c:\\users\\iftek\\appdata\\local\\programs\\python\\python310\\lib\\site-packages (from langchain) (2.8.4)\n",
      "Collecting aiohttp<4.0.0,>=3.8.3\n",
      "  Downloading aiohttp-3.8.4-cp310-cp310-win_amd64.whl (319 kB)\n",
      "     ---------------------------------------- 319.8/319.8 KB ? eta 0:00:00\n",
      "Collecting async-timeout<5.0.0,>=4.0.0\n",
      "  Downloading async_timeout-4.0.2-py3-none-any.whl (5.8 kB)\n",
      "Requirement already satisfied: requests<3,>=2 in c:\\users\\iftek\\appdata\\local\\programs\\python\\python310\\lib\\site-packages (from langchain) (2.27.1)\n",
      "Requirement already satisfied: numpy<2,>=1 in c:\\users\\iftek\\appdata\\local\\programs\\python\\python310\\lib\\site-packages (from langchain) (1.23.1)\n",
      "Collecting dataclasses-json<0.6.0,>=0.5.7\n",
      "  Downloading dataclasses_json-0.5.8-py3-none-any.whl (26 kB)\n",
      "Collecting aiosignal>=1.1.2\n",
      "  Downloading aiosignal-1.3.1-py3-none-any.whl (7.6 kB)\n",
      "Collecting multidict<7.0,>=4.5\n",
      "  Downloading multidict-6.0.4-cp310-cp310-win_amd64.whl (28 kB)\n",
      "Requirement already satisfied: attrs>=17.3.0 in c:\\users\\iftek\\appdata\\local\\programs\\python\\python310\\lib\\site-packages (from aiohttp<4.0.0,>=3.8.3->langchain) (21.4.0)\n",
      "Collecting yarl<2.0,>=1.0\n",
      "  Downloading yarl-1.9.2-cp310-cp310-win_amd64.whl (61 kB)\n",
      "     ---------------------------------------- 61.0/61.0 KB 3.2 MB/s eta 0:00:00\n",
      "Collecting frozenlist>=1.1.1\n",
      "  Downloading frozenlist-1.3.3-cp310-cp310-win_amd64.whl (33 kB)\n",
      "Requirement already satisfied: charset-normalizer<4.0,>=2.0 in c:\\users\\iftek\\appdata\\local\\programs\\python\\python310\\lib\\site-packages (from aiohttp<4.0.0,>=3.8.3->langchain) (2.0.12)\n",
      "Collecting marshmallow<4.0.0,>=3.3.0\n",
      "  Downloading marshmallow-3.19.0-py3-none-any.whl (49 kB)\n",
      "     ---------------------------------------- 49.1/49.1 KB ? eta 0:00:00\n",
      "Collecting marshmallow-enum<2.0.0,>=1.5.1\n",
      "  Downloading marshmallow_enum-1.5.1-py2.py3-none-any.whl (4.2 kB)\n",
      "Collecting typing-inspect>=0.4.0\n",
      "  Downloading typing_inspect-0.9.0-py3-none-any.whl (8.8 kB)\n",
      "Requirement already satisfied: typing-extensions>=4.2.0 in c:\\users\\iftek\\appdata\\local\\programs\\python\\python310\\lib\\site-packages (from pydantic<2,>=1->langchain) (4.3.0)\n",
      "Requirement already satisfied: idna<4,>=2.5 in c:\\users\\iftek\\appdata\\local\\programs\\python\\python310\\lib\\site-packages (from requests<3,>=2->langchain) (3.3)\n",
      "Requirement already satisfied: certifi>=2017.4.17 in c:\\users\\iftek\\appdata\\local\\programs\\python\\python310\\lib\\site-packages (from requests<3,>=2->langchain) (2021.10.8)\n",
      "Requirement already satisfied: urllib3<1.27,>=1.21.1 in c:\\users\\iftek\\appdata\\local\\programs\\python\\python310\\lib\\site-packages (from requests<3,>=2->langchain) (1.26.9)\n",
      "Collecting greenlet!=0.4.17\n",
      "  Downloading greenlet-2.0.2-cp310-cp310-win_amd64.whl (192 kB)\n",
      "     ---------------------------------------- 192.2/192.2 KB ? eta 0:00:00\n",
      "Requirement already satisfied: packaging>=17.0 in c:\\users\\iftek\\appdata\\local\\programs\\python\\python310\\lib\\site-packages (from marshmallow<4.0.0,>=3.3.0->dataclasses-json<0.6.0,>=0.5.7->langchain) (21.3)\n",
      "Collecting mypy-extensions>=0.3.0\n",
      "  Downloading mypy_extensions-1.0.0-py3-none-any.whl (4.7 kB)\n",
      "Requirement already satisfied: pyparsing!=3.0.5,>=2.0.2 in c:\\users\\iftek\\appdata\\local\\programs\\python\\python310\\lib\\site-packages (from packaging>=17.0->marshmallow<4.0.0,>=3.3.0->dataclasses-json<0.6.0,>=0.5.7->langchain) (3.0.9)\n",
      "Installing collected packages: pydantic, mypy-extensions, multidict, greenlet, frozenlist, async-timeout, yarl, typing-inspect, SQLAlchemy, openapi-schema-pydantic, marshmallow, langchainplus-sdk, aiosignal, marshmallow-enum, aiohttp, dataclasses-json, langchain\n",
      "Successfully installed SQLAlchemy-2.0.16 aiohttp-3.8.4 aiosignal-1.3.1 async-timeout-4.0.2 dataclasses-json-0.5.8 frozenlist-1.3.3 greenlet-2.0.2 langchain-0.0.201 langchainplus-sdk-0.0.10 marshmallow-3.19.0 marshmallow-enum-1.5.1 multidict-6.0.4 mypy-extensions-1.0.0 openapi-schema-pydantic-1.2.4 pydantic-1.10.9 typing-inspect-0.9.0 yarl-1.9.2\n"
     ]
    },
    {
     "name": "stderr",
     "output_type": "stream",
     "text": [
      "WARNING: You are using pip version 22.0.4; however, version 23.1.2 is available.\n",
      "You should consider upgrading via the 'C:\\Users\\iftek\\AppData\\Local\\Programs\\Python\\Python310\\python.exe -m pip install --upgrade pip' command.\n"
     ]
    }
   ],
   "source": [
    "!pip install langchain"
   ]
  },
  {
   "cell_type": "code",
   "execution_count": 3,
   "metadata": {},
   "outputs": [
    {
     "name": "stdout",
     "output_type": "stream",
     "text": [
      "Collecting streamlit\n",
      "  Downloading streamlit-1.23.1-py2.py3-none-any.whl (8.9 MB)\n",
      "     ---------------------------------------- 8.9/8.9 MB 33.3 MB/s eta 0:00:00\n",
      "Collecting openai\n",
      "  Downloading openai-0.27.8-py3-none-any.whl (73 kB)\n",
      "     ---------------------------------------- 73.6/73.6 KB ? eta 0:00:00\n",
      "Requirement already satisfied: langchain in c:\\users\\iftek\\appdata\\local\\programs\\python\\python310\\lib\\site-packages (0.0.201)\n",
      "Collecting importlib-metadata<7,>=1.4\n",
      "  Downloading importlib_metadata-6.6.0-py3-none-any.whl (22 kB)\n",
      "Collecting validators<1,>=0.2\n",
      "  Downloading validators-0.20.0.tar.gz (30 kB)\n",
      "  Preparing metadata (setup.py): started\n",
      "  Preparing metadata (setup.py): finished with status 'done'\n",
      "Requirement already satisfied: numpy<2,>=1 in c:\\users\\iftek\\appdata\\local\\programs\\python\\python310\\lib\\site-packages (from streamlit) (1.23.1)\n",
      "Requirement already satisfied: pillow<10,>=6.2.0 in c:\\users\\iftek\\appdata\\local\\programs\\python\\python310\\lib\\site-packages (from streamlit) (9.2.0)\n",
      "Requirement already satisfied: pyarrow>=4.0 in c:\\users\\iftek\\appdata\\local\\programs\\python\\python310\\lib\\site-packages (from streamlit) (10.0.1)\n",
      "Collecting gitpython!=3.1.19,<4,>=3\n",
      "  Downloading GitPython-3.1.31-py3-none-any.whl (184 kB)\n",
      "     ---------------------------------------- 184.3/184.3 KB ? eta 0:00:00\n",
      "Collecting blinker<2,>=1.0.0\n",
      "  Downloading blinker-1.6.2-py3-none-any.whl (13 kB)\n",
      "Collecting tzlocal<5,>=1.1\n",
      "  Downloading tzlocal-4.3-py3-none-any.whl (20 kB)\n",
      "Collecting watchdog\n",
      "  Downloading watchdog-3.0.0-py3-none-win_amd64.whl (82 kB)\n",
      "     ---------------------------------------- 82.0/82.0 KB ? eta 0:00:00\n",
      "Collecting pympler<2,>=0.9\n",
      "  Downloading Pympler-1.0.1-py3-none-any.whl (164 kB)\n",
      "     ---------------------------------------- 164.8/164.8 KB ? eta 0:00:00\n",
      "Requirement already satisfied: pandas<3,>=0.25 in c:\\users\\iftek\\appdata\\local\\programs\\python\\python310\\lib\\site-packages (from streamlit) (1.4.3)\n",
      "Requirement already satisfied: click<9,>=7.0 in c:\\users\\iftek\\appdata\\local\\programs\\python\\python310\\lib\\site-packages (from streamlit) (8.1.3)\n",
      "Requirement already satisfied: typing-extensions<5,>=4.0.1 in c:\\users\\iftek\\appdata\\local\\programs\\python\\python310\\lib\\site-packages (from streamlit) (4.3.0)\n",
      "Collecting rich<14,>=10.11.0\n",
      "  Downloading rich-13.4.2-py3-none-any.whl (239 kB)\n",
      "     ------------------------------------- 239.4/239.4 KB 15.3 MB/s eta 0:00:00\n",
      "Requirement already satisfied: python-dateutil<3,>=2 in c:\\users\\iftek\\appdata\\roaming\\python\\python310\\site-packages (from streamlit) (2.8.2)\n",
      "Requirement already satisfied: cachetools<6,>=4.0 in c:\\users\\iftek\\appdata\\local\\programs\\python\\python310\\lib\\site-packages (from streamlit) (5.0.0)\n",
      "Collecting protobuf<5,>=3.20\n",
      "  Downloading protobuf-4.23.3-cp310-abi3-win_amd64.whl (422 kB)\n",
      "     ------------------------------------- 422.5/422.5 KB 27.5 MB/s eta 0:00:00\n",
      "Requirement already satisfied: requests<3,>=2.4 in c:\\users\\iftek\\appdata\\local\\programs\\python\\python310\\lib\\site-packages (from streamlit) (2.27.1)\n",
      "Collecting altair<6,>=4.0\n",
      "  Downloading altair-5.0.1-py3-none-any.whl (471 kB)\n",
      "     ---------------------------------------- 471.5/471.5 KB ? eta 0:00:00\n",
      "Collecting pydeck<1,>=0.1.dev5\n",
      "  Downloading pydeck-0.8.1b0-py2.py3-none-any.whl (4.8 MB)\n",
      "     ---------------------------------------- 4.8/4.8 MB 43.5 MB/s eta 0:00:00\n",
      "Requirement already satisfied: tenacity<9,>=8.0.0 in c:\\users\\iftek\\appdata\\local\\programs\\python\\python310\\lib\\site-packages (from streamlit) (8.1.0)\n",
      "Requirement already satisfied: packaging<24,>=14.1 in c:\\users\\iftek\\appdata\\local\\programs\\python\\python310\\lib\\site-packages (from streamlit) (21.3)\n",
      "Requirement already satisfied: tornado<7,>=6.0.3 in c:\\users\\iftek\\appdata\\roaming\\python\\python310\\site-packages (from streamlit) (6.1)\n",
      "Collecting toml<2\n",
      "  Downloading toml-0.10.2-py2.py3-none-any.whl (16 kB)\n",
      "Requirement already satisfied: tqdm in c:\\users\\iftek\\appdata\\local\\programs\\python\\python310\\lib\\site-packages (from openai) (4.64.1)\n",
      "Requirement already satisfied: aiohttp in c:\\users\\iftek\\appdata\\local\\programs\\python\\python310\\lib\\site-packages (from openai) (3.8.4)\n",
      "Requirement already satisfied: openapi-schema-pydantic<2.0,>=1.2 in c:\\users\\iftek\\appdata\\local\\programs\\python\\python310\\lib\\site-packages (from langchain) (1.2.4)\n",
      "Requirement already satisfied: dataclasses-json<0.6.0,>=0.5.7 in c:\\users\\iftek\\appdata\\local\\programs\\python\\python310\\lib\\site-packages (from langchain) (0.5.8)\n",
      "Requirement already satisfied: SQLAlchemy<3,>=1.4 in c:\\users\\iftek\\appdata\\local\\programs\\python\\python310\\lib\\site-packages (from langchain) (2.0.16)\n",
      "Requirement already satisfied: langchainplus-sdk>=0.0.9 in c:\\users\\iftek\\appdata\\local\\programs\\python\\python310\\lib\\site-packages (from langchain) (0.0.10)\n",
      "Requirement already satisfied: PyYAML>=5.4.1 in c:\\users\\iftek\\appdata\\local\\programs\\python\\python310\\lib\\site-packages (from langchain) (6.0)\n",
      "Requirement already satisfied: async-timeout<5.0.0,>=4.0.0 in c:\\users\\iftek\\appdata\\local\\programs\\python\\python310\\lib\\site-packages (from langchain) (4.0.2)\n",
      "Requirement already satisfied: pydantic<2,>=1 in c:\\users\\iftek\\appdata\\local\\programs\\python\\python310\\lib\\site-packages (from langchain) (1.10.9)\n",
      "Requirement already satisfied: numexpr<3.0.0,>=2.8.4 in c:\\users\\iftek\\appdata\\local\\programs\\python\\python310\\lib\\site-packages (from langchain) (2.8.4)\n",
      "Requirement already satisfied: multidict<7.0,>=4.5 in c:\\users\\iftek\\appdata\\local\\programs\\python\\python310\\lib\\site-packages (from aiohttp->openai) (6.0.4)\n",
      "Requirement already satisfied: yarl<2.0,>=1.0 in c:\\users\\iftek\\appdata\\local\\programs\\python\\python310\\lib\\site-packages (from aiohttp->openai) (1.9.2)\n",
      "Requirement already satisfied: aiosignal>=1.1.2 in c:\\users\\iftek\\appdata\\local\\programs\\python\\python310\\lib\\site-packages (from aiohttp->openai) (1.3.1)\n",
      "Requirement already satisfied: charset-normalizer<4.0,>=2.0 in c:\\users\\iftek\\appdata\\local\\programs\\python\\python310\\lib\\site-packages (from aiohttp->openai) (2.0.12)\n",
      "Requirement already satisfied: attrs>=17.3.0 in c:\\users\\iftek\\appdata\\local\\programs\\python\\python310\\lib\\site-packages (from aiohttp->openai) (21.4.0)\n",
      "Requirement already satisfied: frozenlist>=1.1.1 in c:\\users\\iftek\\appdata\\local\\programs\\python\\python310\\lib\\site-packages (from aiohttp->openai) (1.3.3)\n",
      "Requirement already satisfied: jinja2 in c:\\users\\iftek\\appdata\\local\\programs\\python\\python310\\lib\\site-packages (from altair<6,>=4.0->streamlit) (3.1.2)\n",
      "Collecting toolz\n",
      "  Downloading toolz-0.12.0-py3-none-any.whl (55 kB)\n",
      "     ---------------------------------------- 55.8/55.8 KB ? eta 0:00:00\n",
      "Collecting jsonschema>=3.0\n",
      "  Downloading jsonschema-4.17.3-py3-none-any.whl (90 kB)\n",
      "     ---------------------------------------- 90.4/90.4 KB ? eta 0:00:00\n",
      "Requirement already satisfied: colorama in c:\\users\\iftek\\appdata\\roaming\\python\\python310\\site-packages (from click<9,>=7.0->streamlit) (0.4.4)\n",
      "Requirement already satisfied: marshmallow-enum<2.0.0,>=1.5.1 in c:\\users\\iftek\\appdata\\local\\programs\\python\\python310\\lib\\site-packages (from dataclasses-json<0.6.0,>=0.5.7->langchain) (1.5.1)\n",
      "Requirement already satisfied: typing-inspect>=0.4.0 in c:\\users\\iftek\\appdata\\local\\programs\\python\\python310\\lib\\site-packages (from dataclasses-json<0.6.0,>=0.5.7->langchain) (0.9.0)\n",
      "Requirement already satisfied: marshmallow<4.0.0,>=3.3.0 in c:\\users\\iftek\\appdata\\local\\programs\\python\\python310\\lib\\site-packages (from dataclasses-json<0.6.0,>=0.5.7->langchain) (3.19.0)\n",
      "Collecting gitdb<5,>=4.0.1\n",
      "  Downloading gitdb-4.0.10-py3-none-any.whl (62 kB)\n",
      "     ---------------------------------------- 62.7/62.7 KB 3.3 MB/s eta 0:00:00\n",
      "Collecting zipp>=0.5\n",
      "  Downloading zipp-3.15.0-py3-none-any.whl (6.8 kB)\n",
      "Requirement already satisfied: pyparsing!=3.0.5,>=2.0.2 in c:\\users\\iftek\\appdata\\local\\programs\\python\\python310\\lib\\site-packages (from packaging<24,>=14.1->streamlit) (3.0.9)\n",
      "Requirement already satisfied: pytz>=2020.1 in c:\\users\\iftek\\appdata\\local\\programs\\python\\python310\\lib\\site-packages (from pandas<3,>=0.25->streamlit) (2022.1)\n",
      "Requirement already satisfied: six>=1.5 in c:\\users\\iftek\\appdata\\roaming\\python\\python310\\site-packages (from python-dateutil<3,>=2->streamlit) (1.16.0)\n",
      "Requirement already satisfied: urllib3<1.27,>=1.21.1 in c:\\users\\iftek\\appdata\\local\\programs\\python\\python310\\lib\\site-packages (from requests<3,>=2.4->streamlit) (1.26.9)\n",
      "Requirement already satisfied: idna<4,>=2.5 in c:\\users\\iftek\\appdata\\local\\programs\\python\\python310\\lib\\site-packages (from requests<3,>=2.4->streamlit) (3.3)\n",
      "Requirement already satisfied: certifi>=2017.4.17 in c:\\users\\iftek\\appdata\\local\\programs\\python\\python310\\lib\\site-packages (from requests<3,>=2.4->streamlit) (2021.10.8)\n",
      "Collecting pygments<3.0.0,>=2.13.0\n",
      "  Downloading Pygments-2.15.1-py3-none-any.whl (1.1 MB)\n",
      "     ---------------------------------------- 1.1/1.1 MB 75.7 MB/s eta 0:00:00\n",
      "Collecting markdown-it-py>=2.2.0\n",
      "  Downloading markdown_it_py-3.0.0-py3-none-any.whl (87 kB)\n",
      "     ---------------------------------------- 87.5/87.5 KB 4.8 MB/s eta 0:00:00\n",
      "Requirement already satisfied: greenlet!=0.4.17 in c:\\users\\iftek\\appdata\\local\\programs\\python\\python310\\lib\\site-packages (from SQLAlchemy<3,>=1.4->langchain) (2.0.2)\n",
      "Requirement already satisfied: tzdata in c:\\users\\iftek\\appdata\\local\\programs\\python\\python310\\lib\\site-packages (from tzlocal<5,>=1.1->streamlit) (2022.1)\n",
      "Collecting pytz-deprecation-shim\n",
      "  Downloading pytz_deprecation_shim-0.1.0.post0-py2.py3-none-any.whl (15 kB)\n",
      "Requirement already satisfied: decorator>=3.4.0 in c:\\users\\iftek\\appdata\\roaming\\python\\python310\\site-packages (from validators<1,>=0.2->streamlit) (5.1.1)\n",
      "Collecting smmap<6,>=3.0.1\n",
      "  Downloading smmap-5.0.0-py3-none-any.whl (24 kB)\n",
      "Requirement already satisfied: MarkupSafe>=2.0 in c:\\users\\iftek\\appdata\\local\\programs\\python\\python310\\lib\\site-packages (from jinja2->altair<6,>=4.0->streamlit) (2.1.1)\n",
      "Collecting pyrsistent!=0.17.0,!=0.17.1,!=0.17.2,>=0.14.0\n",
      "  Downloading pyrsistent-0.19.3-cp310-cp310-win_amd64.whl (62 kB)\n",
      "     ---------------------------------------- 62.7/62.7 KB ? eta 0:00:00\n",
      "Collecting mdurl~=0.1\n",
      "  Downloading mdurl-0.1.2-py3-none-any.whl (10.0 kB)\n",
      "Requirement already satisfied: mypy-extensions>=0.3.0 in c:\\users\\iftek\\appdata\\local\\programs\\python\\python310\\lib\\site-packages (from typing-inspect>=0.4.0->dataclasses-json<0.6.0,>=0.5.7->langchain) (1.0.0)\n",
      "Building wheels for collected packages: validators\n",
      "  Building wheel for validators (setup.py): started\n",
      "  Building wheel for validators (setup.py): finished with status 'done'\n",
      "  Created wheel for validators: filename=validators-0.20.0-py3-none-any.whl size=19582 sha256=ac669db0f4700dcaeda775ba722a0e94408a26f3a30e400476ec801d01364a82\n",
      "  Stored in directory: c:\\users\\iftek\\appdata\\local\\pip\\cache\\wheels\\f2\\ed\\dd\\d3a556ad245ef9dc570c6bcd2f22886d17b0b408dd3bbb9ac3\n",
      "Successfully built validators\n",
      "Installing collected packages: zipp, watchdog, validators, toolz, toml, smmap, pytz-deprecation-shim, pyrsistent, pympler, pygments, protobuf, mdurl, blinker, tzlocal, pydeck, markdown-it-py, jsonschema, importlib-metadata, gitdb, rich, openai, gitpython, altair, streamlit\n",
      "  Attempting uninstall: pygments\n",
      "    Found existing installation: Pygments 2.11.2\n",
      "    Uninstalling Pygments-2.11.2:\n",
      "      Successfully uninstalled Pygments-2.11.2\n",
      "  Attempting uninstall: protobuf\n",
      "    Found existing installation: protobuf 3.19.4\n",
      "    Uninstalling protobuf-3.19.4:\n",
      "      Successfully uninstalled protobuf-3.19.4\n",
      "Successfully installed altair-5.0.1 blinker-1.6.2 gitdb-4.0.10 gitpython-3.1.31 importlib-metadata-6.6.0 jsonschema-4.17.3 markdown-it-py-3.0.0 mdurl-0.1.2 openai-0.27.8 protobuf-4.23.3 pydeck-0.8.1b0 pygments-2.15.1 pympler-1.0.1 pyrsistent-0.19.3 pytz-deprecation-shim-0.1.0.post0 rich-13.4.2 smmap-5.0.0 streamlit-1.23.1 toml-0.10.2 toolz-0.12.0 tzlocal-4.3 validators-0.20.0 watchdog-3.0.0 zipp-3.15.0\n"
     ]
    },
    {
     "name": "stderr",
     "output_type": "stream",
     "text": [
      "ERROR: pip's dependency resolver does not currently take into account all the packages that are installed. This behaviour is the source of the following dependency conflicts.\n",
      "tensorflow 2.9.1 requires protobuf<3.20,>=3.9.2, but you have protobuf 4.23.3 which is incompatible.\n",
      "tensorboard 2.9.1 requires protobuf<3.20,>=3.9.2, but you have protobuf 4.23.3 which is incompatible.\n",
      "WARNING: You are using pip version 22.0.4; however, version 23.1.2 is available.\n",
      "You should consider upgrading via the 'C:\\Users\\iftek\\AppData\\Local\\Programs\\Python\\Python310\\python.exe -m pip install --upgrade pip' command.\n"
     ]
    }
   ],
   "source": [
    "!pip install streamlit openai langchain"
   ]
  },
  {
   "cell_type": "code",
   "execution_count": 9,
   "metadata": {},
   "outputs": [
    {
     "data": {
      "text/plain": [
       "[{'generated_text': '<|prompter|>Make the following into hashtags, do not include only messages only what i asked forSlushie Maker Cup 330ml, Frozen Magic Squeeze Cup, Instant Slushy Maker Cup for DIY Milkshake, Ice Cream & Smoothies, Frozen Magic Cup, Ice Maker Cup Squeeze for DIY Slushie (Pink)<|endoftext|>#Slushie Maker Cup 330ml, #Frozen Magic Squeeze Cup,'}]"
      ]
     },
     "execution_count": 9,
     "metadata": {},
     "output_type": "execute_result"
    }
   ],
   "source": [
    "\n",
    "topic = 'Slushie Maker Cup 330ml, Frozen Magic Squeeze Cup, Instant Slushy Maker Cup for DIY Milkshake, Ice Cream & Smoothies, Frozen Magic Cup, Ice Maker Cup Squeeze for DIY Slushie (Pink)'\n",
    "import requests\n",
    "from keys import hugging_face_api_key\n",
    "API_URL = \"https://api-inference.huggingface.co/models/OpenAssistant/oasst-sft-4-pythia-12b-epoch-3.5\"\n",
    "headers = {\"Authorization\": \"Bearer \" + hugging_face_api_key}\n",
    "\n",
    "def query(payload):\n",
    "\tresponse = requests.post(API_URL, headers=headers, json=payload)\n",
    "\treturn response.json()\n",
    "\t\n",
    "data = query({\"inputs\": \"<|prompter|>\"+\"Make the following into hashtags, do not include only messages only what i asked for\"+ topic + \"<|endoftext|>\"})\n",
    "data"
   ]
  },
  {
   "cell_type": "code",
   "execution_count": null,
   "metadata": {},
   "outputs": [],
   "source": []
  }
 ],
 "metadata": {
  "kernelspec": {
   "display_name": "Python 3",
   "language": "python",
   "name": "python3"
  },
  "language_info": {
   "codemirror_mode": {
    "name": "ipython",
    "version": 3
   },
   "file_extension": ".py",
   "mimetype": "text/x-python",
   "name": "python",
   "nbconvert_exporter": "python",
   "pygments_lexer": "ipython3",
   "version": "3.10.5"
  },
  "orig_nbformat": 4
 },
 "nbformat": 4,
 "nbformat_minor": 2
}
